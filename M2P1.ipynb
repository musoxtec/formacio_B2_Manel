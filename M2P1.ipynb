{
 "cells": [
  {
   "cell_type": "markdown",
   "metadata": {},
   "source": [
    "# Mòdul 2 Part 1"
   ]
  },
  {
   "cell_type": "markdown",
   "metadata": {},
   "source": [
    "Exercici 1"
   ]
  },
  {
   "cell_type": "code",
   "execution_count": 1,
   "metadata": {},
   "outputs": [],
   "source": [
    "T1 = ['Gener', 'Febrer', 'Març']\n",
    "T2 = ['Abril', 'Maig', 'Juny']\n",
    "T3 = ['Juliol', 'Agost', 'Setembre']\n",
    "T4 = ['Octubre', 'Novembre', 'Desembre']\n",
    "mesos_any = [T1, T2, T3, T4]\n"
   ]
  },
  {
   "cell_type": "markdown",
   "metadata": {},
   "source": [
    "Exercici 2"
   ]
  },
  {
   "cell_type": "code",
   "execution_count": 3,
   "metadata": {},
   "outputs": [
    {
     "name": "stdout",
     "output_type": "stream",
     "text": [
      "El 2n mes del 1r trimestre  Febrer\n",
      "Els mesos del primer trimestre són  Gener ,  Febrer  i  Març\n",
      "El nové i desé mesos del l'any són  Setembre  i  Octubre\n"
     ]
    }
   ],
   "source": [
    "#2n mes 1r trim\n",
    "print('El 2n mes del 1r trimestre ', mesos_any[0][1])\n",
    "\n",
    "# mesos del primer trimestre\n",
    "print('Els mesos del primer trimestre són ', mesos_any[0][0], ', ', mesos_any[0][1], ' i ', mesos_any[0][2])\n",
    "\n",
    "#set i oct\n",
    "print('El nové i desé mesos del l\\'any són ', mesos_any[2][2], ' i ', mesos_any[3][0])"
   ]
  },
  {
   "cell_type": "markdown",
   "metadata": {},
   "source": [
    "Exercici 3"
   ]
  },
  {
   "cell_type": "code",
   "execution_count": 39,
   "metadata": {},
   "outputs": [
    {
     "name": "stdout",
     "output_type": "stream",
     "text": [
      "La llista és:  [8, 9, 5, 6, 5, 0, 0, 10, 5, 8]\n",
      "Quants nombres hi ha? -  10\n",
      "Quantes vegades apareix el 3? -  0\n",
      "Quantes vegades apareixen els nombres 3 i 4? -  0\n",
      "Quin és el número més gran? -  10\n",
      "Quins són el 3 números més petit? -  [0, 0, 5]\n",
      "Quin és el rang d'aquesta llista? - \n"
     ]
    }
   ],
   "source": [
    "import random\n",
    "\n",
    "llista = [random.randint(0, 10) for i in range(10)]\n",
    "print('La llista és: ', llista)\n",
    "\n",
    "print('Quants nombres hi ha? - ', len(llista))\n",
    "print('Quantes vegades apareix el 3? - ', llista.count(3))\n",
    "print('Quantes vegades apareixen els nombres 3 i 4? - ' , llista.count(3) + llista.count(4))\n",
    "print('Quin és el número més gran? - ', max(llista))\n",
    "llista.sort()\n",
    "print('Quins són el 3 números més petit? - ', llista[:3])\n",
    "print('Quin és el rang d\\'aquesta llista? - ', )  # rang no és el mateix que longitud?\n",
    "\n"
   ]
  },
  {
   "cell_type": "markdown",
   "metadata": {},
   "source": [
    "Exercici 4"
   ]
  },
  {
   "cell_type": "code",
   "execution_count": 41,
   "metadata": {},
   "outputs": [
    {
     "name": "stdout",
     "output_type": "stream",
     "text": [
      "Les peres costen  0.66  €\n",
      "Hem comprat en total  12  peces de fruita\n",
      "La fruita més cara són les Peres\n"
     ]
    }
   ],
   "source": [
    "compra = {\n",
    "    'Pomes':{'Qty' : 5, '€': 0.42},\n",
    "    'Peres':{'Qty' : 3, '€': 0.66}\n",
    "          }\n",
    "\n",
    "#  Afegim bresquilles\n",
    "compra['Bresquilles'] = {'Qty' : 4, '€': 0.56}\n",
    "\n",
    "print('Les peres costen ', compra['Peres']['€'], ' €')\n",
    "total_fruites = 0\n",
    "for key in compra.keys():\n",
    "    total_fruites += compra[key]['Qty']\n",
    "print('Hem comprat en total ', total_fruites, ' peces de fruita')\n",
    "preu = 0\n",
    "for key in compra.keys():\n",
    "    preu_fruita = compra[key]['€']\n",
    "    if preu < preu_fruita:\n",
    "        preu = preu_fruita\n",
    "        fruita_cara = key\n",
    "print('La fruita més cara són les', fruita_cara)"
   ]
  },
  {
   "cell_type": "code",
   "execution_count": null,
   "metadata": {},
   "outputs": [],
   "source": []
  }
 ],
 "metadata": {
  "kernelspec": {
   "display_name": "Python 3",
   "language": "python",
   "name": "python3"
  },
  "language_info": {
   "codemirror_mode": {
    "name": "ipython",
    "version": 3
   },
   "file_extension": ".py",
   "mimetype": "text/x-python",
   "name": "python",
   "nbconvert_exporter": "python",
   "pygments_lexer": "ipython3",
   "version": "3.12.0"
  }
 },
 "nbformat": 4,
 "nbformat_minor": 2
}
