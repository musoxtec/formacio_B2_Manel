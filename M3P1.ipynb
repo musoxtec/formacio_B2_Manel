{
 "cells": [
  {
   "cell_type": "markdown",
   "metadata": {},
   "source": [
    "# Mòdul 3 Part 1"
   ]
  },
  {
   "cell_type": "markdown",
   "metadata": {},
   "source": [
    "Exercici 1"
   ]
  },
  {
   "cell_type": "code",
   "execution_count": 44,
   "metadata": {},
   "outputs": [
    {
     "data": {
      "text/html": [
       "<div>\n",
       "<style scoped>\n",
       "    .dataframe tbody tr th:only-of-type {\n",
       "        vertical-align: middle;\n",
       "    }\n",
       "\n",
       "    .dataframe tbody tr th {\n",
       "        vertical-align: top;\n",
       "    }\n",
       "\n",
       "    .dataframe thead th {\n",
       "        text-align: right;\n",
       "    }\n",
       "</style>\n",
       "<table border=\"1\" class=\"dataframe\">\n",
       "  <thead>\n",
       "    <tr style=\"text-align: right;\">\n",
       "      <th></th>\n",
       "      <th>sepal length (cm)</th>\n",
       "      <th>sepal width (cm)</th>\n",
       "      <th>petal length (cm)</th>\n",
       "      <th>petal width (cm)</th>\n",
       "    </tr>\n",
       "  </thead>\n",
       "  <tbody>\n",
       "    <tr>\n",
       "      <th>0</th>\n",
       "      <td>5.1</td>\n",
       "      <td>3.5</td>\n",
       "      <td>1.4</td>\n",
       "      <td>0.2</td>\n",
       "    </tr>\n",
       "    <tr>\n",
       "      <th>1</th>\n",
       "      <td>4.9</td>\n",
       "      <td>3.0</td>\n",
       "      <td>1.4</td>\n",
       "      <td>0.2</td>\n",
       "    </tr>\n",
       "    <tr>\n",
       "      <th>2</th>\n",
       "      <td>4.7</td>\n",
       "      <td>3.2</td>\n",
       "      <td>1.3</td>\n",
       "      <td>0.2</td>\n",
       "    </tr>\n",
       "    <tr>\n",
       "      <th>3</th>\n",
       "      <td>4.6</td>\n",
       "      <td>3.1</td>\n",
       "      <td>1.5</td>\n",
       "      <td>0.2</td>\n",
       "    </tr>\n",
       "    <tr>\n",
       "      <th>4</th>\n",
       "      <td>5.0</td>\n",
       "      <td>3.6</td>\n",
       "      <td>1.4</td>\n",
       "      <td>0.2</td>\n",
       "    </tr>\n",
       "    <tr>\n",
       "      <th>5</th>\n",
       "      <td>5.4</td>\n",
       "      <td>3.9</td>\n",
       "      <td>1.7</td>\n",
       "      <td>0.4</td>\n",
       "    </tr>\n",
       "    <tr>\n",
       "      <th>6</th>\n",
       "      <td>4.6</td>\n",
       "      <td>3.4</td>\n",
       "      <td>1.4</td>\n",
       "      <td>0.3</td>\n",
       "    </tr>\n",
       "    <tr>\n",
       "      <th>7</th>\n",
       "      <td>5.0</td>\n",
       "      <td>3.4</td>\n",
       "      <td>1.5</td>\n",
       "      <td>0.2</td>\n",
       "    </tr>\n",
       "    <tr>\n",
       "      <th>8</th>\n",
       "      <td>4.4</td>\n",
       "      <td>2.9</td>\n",
       "      <td>1.4</td>\n",
       "      <td>0.2</td>\n",
       "    </tr>\n",
       "    <tr>\n",
       "      <th>9</th>\n",
       "      <td>4.9</td>\n",
       "      <td>3.1</td>\n",
       "      <td>1.5</td>\n",
       "      <td>0.1</td>\n",
       "    </tr>\n",
       "  </tbody>\n",
       "</table>\n",
       "</div>"
      ],
      "text/plain": [
       "   sepal length (cm)  sepal width (cm)  petal length (cm)  petal width (cm)\n",
       "0                5.1               3.5                1.4               0.2\n",
       "1                4.9               3.0                1.4               0.2\n",
       "2                4.7               3.2                1.3               0.2\n",
       "3                4.6               3.1                1.5               0.2\n",
       "4                5.0               3.6                1.4               0.2\n",
       "5                5.4               3.9                1.7               0.4\n",
       "6                4.6               3.4                1.4               0.3\n",
       "7                5.0               3.4                1.5               0.2\n",
       "8                4.4               2.9                1.4               0.2\n",
       "9                4.9               3.1                1.5               0.1"
      ]
     },
     "execution_count": 44,
     "metadata": {},
     "output_type": "execute_result"
    }
   ],
   "source": [
    "import sklearn.datasets as skds\n",
    "import pandas as pd\n",
    "\n",
    "dades, target = skds.load_iris(return_X_y=True, as_frame=True)\n",
    "\n",
    "dades[:10]"
   ]
  },
  {
   "cell_type": "markdown",
   "metadata": {},
   "source": [
    "Exercici 2"
   ]
  },
  {
   "cell_type": "code",
   "execution_count": 45,
   "metadata": {},
   "outputs": [
    {
     "data": {
      "text/html": [
       "<div>\n",
       "<style scoped>\n",
       "    .dataframe tbody tr th:only-of-type {\n",
       "        vertical-align: middle;\n",
       "    }\n",
       "\n",
       "    .dataframe tbody tr th {\n",
       "        vertical-align: top;\n",
       "    }\n",
       "\n",
       "    .dataframe thead th {\n",
       "        text-align: right;\n",
       "    }\n",
       "</style>\n",
       "<table border=\"1\" class=\"dataframe\">\n",
       "  <thead>\n",
       "    <tr style=\"text-align: right;\">\n",
       "      <th></th>\n",
       "      <th>sepal length (cm)</th>\n",
       "      <th>sepal width (cm)</th>\n",
       "      <th>petal length (cm)</th>\n",
       "      <th>petal width (cm)</th>\n",
       "      <th>target</th>\n",
       "    </tr>\n",
       "  </thead>\n",
       "  <tbody>\n",
       "    <tr>\n",
       "      <th>0</th>\n",
       "      <td>5.1</td>\n",
       "      <td>3.5</td>\n",
       "      <td>1.4</td>\n",
       "      <td>0.2</td>\n",
       "      <td>0</td>\n",
       "    </tr>\n",
       "    <tr>\n",
       "      <th>1</th>\n",
       "      <td>4.9</td>\n",
       "      <td>3.0</td>\n",
       "      <td>1.4</td>\n",
       "      <td>0.2</td>\n",
       "      <td>0</td>\n",
       "    </tr>\n",
       "    <tr>\n",
       "      <th>2</th>\n",
       "      <td>4.7</td>\n",
       "      <td>3.2</td>\n",
       "      <td>1.3</td>\n",
       "      <td>0.2</td>\n",
       "      <td>0</td>\n",
       "    </tr>\n",
       "    <tr>\n",
       "      <th>3</th>\n",
       "      <td>4.6</td>\n",
       "      <td>3.1</td>\n",
       "      <td>1.5</td>\n",
       "      <td>0.2</td>\n",
       "      <td>0</td>\n",
       "    </tr>\n",
       "    <tr>\n",
       "      <th>4</th>\n",
       "      <td>5.0</td>\n",
       "      <td>3.6</td>\n",
       "      <td>1.4</td>\n",
       "      <td>0.2</td>\n",
       "      <td>0</td>\n",
       "    </tr>\n",
       "  </tbody>\n",
       "</table>\n",
       "</div>"
      ],
      "text/plain": [
       "   sepal length (cm)  sepal width (cm)  petal length (cm)  petal width (cm)  \\\n",
       "0                5.1               3.5                1.4               0.2   \n",
       "1                4.9               3.0                1.4               0.2   \n",
       "2                4.7               3.2                1.3               0.2   \n",
       "3                4.6               3.1                1.5               0.2   \n",
       "4                5.0               3.6                1.4               0.2   \n",
       "\n",
       "   target  \n",
       "0       0  \n",
       "1       0  \n",
       "2       0  \n",
       "3       0  \n",
       "4       0  "
      ]
     },
     "execution_count": 45,
     "metadata": {},
     "output_type": "execute_result"
    }
   ],
   "source": [
    "dades['target']=target\n",
    "dades[:5]"
   ]
  },
  {
   "cell_type": "markdown",
   "metadata": {},
   "source": [
    "Exercici 3"
   ]
  },
  {
   "cell_type": "code",
   "execution_count": 46,
   "metadata": {},
   "outputs": [
    {
     "name": "stdout",
     "output_type": "stream",
     "text": [
      "La mitjana de longitud de sèpal és  5.84  cm\n",
      "La desviació estándard de la mostra de sèpal és  0.83  cm\n",
      "La mitjana de longitud de pètal és  3.76  cm\n",
      "La desviació estándard de la mostra de pètal és  1.76  cm\n"
     ]
    }
   ],
   "source": [
    "import numpy as np\n",
    "\n",
    "sepal_length_dades = np.array(dades['sepal length (cm)'])\n",
    "petal_length_dades = np.array(dades['petal length (cm)'])\n",
    "petal_length_avg = np.mean(petal_length_dades)\n",
    "print('La mitjana de longitud de sèpal és ', np.round(np.mean(sepal_length_dades), 2), ' cm')\n",
    "print('La desviació estándard de la mostra de sèpal és ', np.round(np.std(sepal_length_dades), 2), ' cm')\n",
    "print('La mitjana de longitud de pètal és ', np.round(petal_length_avg, 2), ' cm')\n",
    "print('La desviació estándard de la mostra de pètal és ', np.round(np.std(petal_length_dades), 2), ' cm')"
   ]
  },
  {
   "cell_type": "markdown",
   "metadata": {},
   "source": [
    "Exercici 4"
   ]
  },
  {
   "cell_type": "code",
   "execution_count": 47,
   "metadata": {},
   "outputs": [
    {
     "name": "stdout",
     "output_type": "stream",
     "text": [
      "     sepal length (cm)  sepal width (cm)  petal length (cm)  petal width (cm)  \\\n",
      "118                7.7               2.6                6.9               2.3   \n",
      "102                7.1               3.0                5.9               2.1   \n",
      "69                 5.6               2.5                3.9               1.1   \n",
      "91                 6.1               3.0                4.6               1.4   \n",
      "66                 5.6               3.0                4.5               1.5   \n",
      "39                 5.1               3.4                1.5               0.2   \n",
      "88                 5.6               3.0                4.1               1.3   \n",
      "45                 4.8               3.0                1.4               0.3   \n",
      "2                  4.7               3.2                1.3               0.2   \n",
      "96                 5.7               2.9                4.2               1.3   \n",
      "105                7.6               3.0                6.6               2.1   \n",
      "97                 6.2               2.9                4.3               1.3   \n",
      "116                6.5               3.0                5.5               1.8   \n",
      "49                 5.0               3.3                1.4               0.2   \n",
      "32                 5.2               4.1                1.5               0.1   \n",
      "26                 5.0               3.4                1.6               0.4   \n",
      "92                 5.8               2.6                4.0               1.2   \n",
      "83                 6.0               2.7                5.1               1.6   \n",
      "110                6.5               3.2                5.1               2.0   \n",
      "123                6.3               2.7                4.9               1.8   \n",
      "\n",
      "     target  \n",
      "118       2  \n",
      "102       2  \n",
      "69        1  \n",
      "91        1  \n",
      "66        1  \n",
      "39        0  \n",
      "88        1  \n",
      "45        0  \n",
      "2         0  \n",
      "96        1  \n",
      "105       2  \n",
      "97        1  \n",
      "116       2  \n",
      "49        0  \n",
      "32        0  \n",
      "26        0  \n",
      "92        1  \n",
      "83        1  \n",
      "110       2  \n",
      "123       2  \n"
     ]
    }
   ],
   "source": [
    "selec_20 = dades.sample(20)\n",
    "print(selec_20)"
   ]
  },
  {
   "cell_type": "markdown",
   "metadata": {},
   "source": [
    "Exercici 5"
   ]
  },
  {
   "cell_type": "code",
   "execution_count": 48,
   "metadata": {},
   "outputs": [
    {
     "name": "stdout",
     "output_type": "stream",
     "text": [
      "   avg (cm)  std (cm)\n",
      "0  5.843333  0.825301\n",
      "1  3.057333  0.434411\n",
      "2  3.758000  1.759404\n",
      "3  1.199333  0.759693\n",
      "4  1.000000  0.816497\n"
     ]
    }
   ],
   "source": [
    "dades_matriu = np.array(dades)\n",
    "matriu_cent_disp = []\n",
    "for i in range(dades_matriu.shape[1]):\n",
    "    matriu_cent_disp.append([np.mean(dades_matriu[:, i]), np.std(dades_matriu[:, i])])\n",
    "matriu_cent_disp = np.array(matriu_cent_disp)\n",
    "matriu_cent_disp = pd.DataFrame(matriu_cent_disp, columns=['avg (cm)', 'std (cm)'])\n",
    "print(matriu_cent_disp)"
   ]
  },
  {
   "cell_type": "markdown",
   "metadata": {},
   "source": [
    "Exercici 6"
   ]
  },
  {
   "cell_type": "code",
   "execution_count": 49,
   "metadata": {},
   "outputs": [
    {
     "name": "stdout",
     "output_type": "stream",
     "text": [
      "Hi ha un total de  150  entrades\n",
      "Valor màxim del 'sepal length (cm)':  7.9  cm\n"
     ]
    }
   ],
   "source": [
    "print('Hi ha un total de ', dades.shape[0], ' entrades')\n",
    "print('Valor màxim del \\'sepal length (cm)\\': ', dades['sepal length (cm)'].max(), ' cm')"
   ]
  },
  {
   "cell_type": "markdown",
   "metadata": {},
   "source": [
    "Exercici 7"
   ]
  },
  {
   "cell_type": "code",
   "execution_count": 71,
   "metadata": {},
   "outputs": [
    {
     "name": "stdout",
     "output_type": "stream",
     "text": [
      "     sepal length (cm)  sepal width (cm)  petal length (cm)  petal width (cm)  \\\n",
      "118                7.7               2.6                6.9               2.3   \n",
      "\n",
      "     target  \n",
      "118       2  \n"
     ]
    }
   ],
   "source": [
    "dades_np = dades.to_numpy()\n",
    "np.corrcoef(dades_np)\n",
    "dades_petal_grans = dades[dades['petal length (cm)'] >= petal_length_avg]\n",
    "max_longitud_petal = dades_petal_grans['petal length (cm)'].max()\n",
    "print(dades[dades['petal length (cm)'] >= max_longitud_petal])"
   ]
  }
 ],
 "metadata": {
  "kernelspec": {
   "display_name": "Python 3",
   "language": "python",
   "name": "python3"
  },
  "language_info": {
   "codemirror_mode": {
    "name": "ipython",
    "version": 3
   },
   "file_extension": ".py",
   "mimetype": "text/x-python",
   "name": "python",
   "nbconvert_exporter": "python",
   "pygments_lexer": "ipython3",
   "version": "3.12.0"
  }
 },
 "nbformat": 4,
 "nbformat_minor": 2
}
