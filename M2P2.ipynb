{
 "cells": [
  {
   "cell_type": "markdown",
   "metadata": {},
   "source": [
    "# Modul 2 Part 2"
   ]
  },
  {
   "cell_type": "markdown",
   "metadata": {},
   "source": [
    "Exercici 1"
   ]
  },
  {
   "cell_type": "code",
   "execution_count": 1,
   "metadata": {},
   "outputs": [],
   "source": [
    "def assigna_assoliment(nota_numerica):\n",
    "    nota_assoliment = ''\n",
    "    if nota_numerica < 5:\n",
    "        nota_assoliment = 'No assoleix'  # Suspès\n",
    "    elif nota_numerica < 7:\n",
    "        nota_assoliment = 'Assoliment satisfactori'  # Aprovat\n",
    "    elif nota_numerica < 9:\n",
    "        nota_assoliment = 'Assoliment notable'  # Notable\n",
    "    else:\n",
    "        nota_assoliment = 'Assoliment exel·lent'  # Exel·lent"
   ]
  },
  {
   "cell_type": "markdown",
   "metadata": {},
   "source": [
    "Exercici 2"
   ]
  },
  {
   "cell_type": "markdown",
   "metadata": {},
   "source": [
    "num1 = int(input('Posa el primer número: '))\n",
    "num2 = int(input('Posa el segon número: '))\n",
    "if num1 < num2:\n",
    "    print(num1, ' és menor que ', num2)\n",
    "elif num1 > num2:\n",
    "    print(num1, ' és major que ', num2)\n",
    "else:\n",
    "    print('Els dos nombres són iguals')"
   ]
  },
  {
   "cell_type": "markdown",
   "metadata": {},
   "source": [
    "Exercici 3"
   ]
  },
  {
   "cell_type": "code",
   "execution_count": 6,
   "metadata": {},
   "outputs": [],
   "source": [
    "def pregunta_el_nom():\n",
    "    nom = input('Quin és el teu nom? ')\n",
    "    vegades = int(input('Posa un número '))\n",
    "    if vegades != 0:\n",
    "        for i in range(vegades):\n",
    "            print(nom)\n",
    "    else:\n",
    "        print('No es possible repeteri 0 vegades el teu nom...')"
   ]
  },
  {
   "cell_type": "code",
   "execution_count": 7,
   "metadata": {},
   "outputs": [
    {
     "name": "stdout",
     "output_type": "stream",
     "text": [
      "Manel\n",
      "Manel\n",
      "Manel\n",
      "Manel\n",
      "Manel\n",
      "Manel\n"
     ]
    }
   ],
   "source": [
    "pregunta_el_nom()"
   ]
  },
  {
   "cell_type": "markdown",
   "metadata": {},
   "source": [
    "Exercici 4"
   ]
  },
  {
   "cell_type": "code",
   "execution_count": 41,
   "metadata": {},
   "outputs": [
    {
     "name": "stdout",
     "output_type": "stream",
     "text": [
      "La llista  [1, 2, 1]  és simetrica i té  3  elements\n",
      "La llista [1, 2, 3] no és simètrica\n"
     ]
    }
   ],
   "source": [
    "def es_simetrica(llista_objectiu):\n",
    "    son_simetriques = True\n",
    "    tamany_llista = len(llista_objectiu)\n",
    "    for i in range(tamany_llista):\n",
    "        if llista_objectiu[i] != llista_objectiu[tamany_llista - i - 1]:\n",
    "            son_simetriques = False\n",
    "    if son_simetriques:\n",
    "        print('La llista ', llista_objectiu,' és simetrica i té ', len(llista_objectiu), ' elements')\n",
    "    else:\n",
    "        print('La llista', llista_objectiu,'no és simètrica')\n",
    "    \n",
    "es_simetrica([1, 2, 1])\n",
    "es_simetrica([1, 2, 3])"
   ]
  },
  {
   "cell_type": "markdown",
   "metadata": {},
   "source": [
    "Exercici 5"
   ]
  },
  {
   "cell_type": "code",
   "execution_count": 48,
   "metadata": {},
   "outputs": [
    {
     "name": "stdout",
     "output_type": "stream",
     "text": [
      "El número  0  està al seu lloc\n",
      "El número  1  està al seu lloc\n",
      "El número  5  està al seu lloc\n"
     ]
    }
   ],
   "source": [
    "def ben_classificats(llista_objectiu):\n",
    "    for i in range(len(llista_objectiu)):\n",
    "        if llista_objectiu[i] == i:\n",
    "            print('El número ', i, ' està al seu lloc')\n",
    "\n",
    "ben_classificats([0, 1, 3, 4, 7, 5])\n"
   ]
  },
  {
   "cell_type": "code",
   "execution_count": null,
   "metadata": {},
   "outputs": [],
   "source": []
  }
 ],
 "metadata": {
  "kernelspec": {
   "display_name": "Python 3",
   "language": "python",
   "name": "python3"
  },
  "language_info": {
   "codemirror_mode": {
    "name": "ipython",
    "version": 3
   },
   "file_extension": ".py",
   "mimetype": "text/x-python",
   "name": "python",
   "nbconvert_exporter": "python",
   "pygments_lexer": "ipython3",
   "version": "3.12.0"
  }
 },
 "nbformat": 4,
 "nbformat_minor": 2
}
